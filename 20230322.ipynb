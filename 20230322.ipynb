{
 "nbformat": 4,
 "nbformat_minor": 0,
 "metadata": {
  "colab": {
   "provenance": []
  },
  "kernelspec": {
   "name": "python3",
   "display_name": "Python 3"
  },
  "language_info": {
   "name": "python"
  }
 },
 "cells": [
  {
   "cell_type": "code",
   "execution_count": null,
   "metadata": {
    "id": "jnKFomVu_Snh"
   },
   "outputs": [],
   "source": [
    "import requests\n",
    "from bs4 import BeautifulSoup"
   ]
  },
  {
   "cell_type": "code",
   "source": [
    "def get_page_cnt(isbn):\n",
    "  # yes24 url 저장\n",
    "  url = 'http://www.yes24.com/Product/Search?domain=BOOK&query={}'\n",
    "  # isbn에 해당하는 책 정보 요청\n",
    "  r = requests.get(url.format(isbn))\n",
    "  # yes24 페이지 파싱\n",
    "  soup = BeautifulSoup(r.text, 'html.parser')\n",
    "  # 파싱한 정보의 <a> 태그의 class 이름이 gd_name인 부분 찾기 \n",
    "  prd_link = soup.find('a', attrs={'class':'gd_name'})\n",
    "  # yes24 url에 prd_link안에 href부분을 합쳐서 저장\n",
    "  book_url = 'http://www.yes24.com' + prd_link['href']\n",
    "  # 책 정보 요청\n",
    "  book_r = requests.get(book_url)\n",
    "  # 책 정보 파싱\n",
    "  book_soup = BeautifulSoup(book_r.text, 'html.parser')\n",
    "  # 파싱한 정보의 <div> 태그의 id가 infoset_specific인 정보 찾기\n",
    "  prd_detail = book_soup.find('div', attrs={'id':'infoset_specific'})\n",
    "  # prd_detail의 모든 <tr> 태그 검색\n",
    "  prd_tr_list = prd_detail.find_all('tr')\n",
    "  \n",
    "  # <tr> 태그 리스트의 내용중 '쪽수, 무게, 크기'에 해당하는 태그의 쪽수만 반환\n",
    "  for tr in prd_tr_list:\n",
    "    if tr.find('th').get_text() == '쪽수, 무게, 크기':\n",
    "      page_td = tr.find('td').get_text()\n",
    "      return page_td.split()[0]"
   ],
   "metadata": {
    "id": "VNHDL4qg_opA"
   },
   "execution_count": 1,
   "outputs": []
  },
  {
   "cell_type": "code",
   "source": [
    "print(get_page_cnt(9791190090018))"
   ],
   "metadata": {
    "colab": {
     "base_uri": "https://localhost:8080/"
    },
    "id": "P4Xo4gg3BDPz",
    "outputId": "af9e98a4-e82d-4007-f812-e24fd2367a65"
   },
   "execution_count": 2,
   "outputs": [
    {
     "ename": "NameError",
     "evalue": "name 'requests' is not defined",
     "output_type": "error",
     "traceback": [
      "\u001B[0;31m---------------------------------------------------------------------------\u001B[0m",
      "\u001B[0;31mNameError\u001B[0m                                 Traceback (most recent call last)",
      "\u001B[0;32m/var/folders/b8/ddg81r2x44g_7wx0yxbk2b2r0000gn/T/ipykernel_1845/1984145832.py\u001B[0m in \u001B[0;36m<module>\u001B[0;34m\u001B[0m\n\u001B[0;32m----> 1\u001B[0;31m \u001B[0mprint\u001B[0m\u001B[0;34m(\u001B[0m\u001B[0mget_page_cnt\u001B[0m\u001B[0;34m(\u001B[0m\u001B[0;36m9791190090018\u001B[0m\u001B[0;34m)\u001B[0m\u001B[0;34m)\u001B[0m\u001B[0;34m\u001B[0m\u001B[0;34m\u001B[0m\u001B[0m\n\u001B[0m",
      "\u001B[0;32m/var/folders/b8/ddg81r2x44g_7wx0yxbk2b2r0000gn/T/ipykernel_1845/549876225.py\u001B[0m in \u001B[0;36mget_page_cnt\u001B[0;34m(isbn)\u001B[0m\n\u001B[1;32m      3\u001B[0m   \u001B[0murl\u001B[0m \u001B[0;34m=\u001B[0m \u001B[0;34m'http://www.yes24.com/Product/Search?domain=BOOK&query={}'\u001B[0m\u001B[0;34m\u001B[0m\u001B[0;34m\u001B[0m\u001B[0m\n\u001B[1;32m      4\u001B[0m   \u001B[0;31m# isbn에 해당하는 책 정보 요청\u001B[0m\u001B[0;34m\u001B[0m\u001B[0;34m\u001B[0m\u001B[0m\n\u001B[0;32m----> 5\u001B[0;31m   \u001B[0mr\u001B[0m \u001B[0;34m=\u001B[0m \u001B[0mrequests\u001B[0m\u001B[0;34m.\u001B[0m\u001B[0mget\u001B[0m\u001B[0;34m(\u001B[0m\u001B[0murl\u001B[0m\u001B[0;34m.\u001B[0m\u001B[0mformat\u001B[0m\u001B[0;34m(\u001B[0m\u001B[0misbn\u001B[0m\u001B[0;34m)\u001B[0m\u001B[0;34m)\u001B[0m\u001B[0;34m\u001B[0m\u001B[0;34m\u001B[0m\u001B[0m\n\u001B[0m\u001B[1;32m      6\u001B[0m   \u001B[0;31m# yes24 페이지 파싱\u001B[0m\u001B[0;34m\u001B[0m\u001B[0;34m\u001B[0m\u001B[0m\n\u001B[1;32m      7\u001B[0m   \u001B[0msoup\u001B[0m \u001B[0;34m=\u001B[0m \u001B[0mBeautifulSoup\u001B[0m\u001B[0;34m(\u001B[0m\u001B[0mr\u001B[0m\u001B[0;34m.\u001B[0m\u001B[0mtext\u001B[0m\u001B[0;34m,\u001B[0m \u001B[0;34m'html.parser'\u001B[0m\u001B[0;34m)\u001B[0m\u001B[0;34m\u001B[0m\u001B[0;34m\u001B[0m\u001B[0m\n",
      "\u001B[0;31mNameError\u001B[0m: name 'requests' is not defined"
     ]
    }
   ]
  },
  {
   "cell_type": "code",
   "source": [
    "import pandas as pd\n",
    "\n",
    "url = 'http://data4library.kr/api/loanItemSrch?format=json&startDt=2021-04-01&endDt=2021-04-30&age=20&authKey=4ba168c54fe61dee178046bbda237a2103470447a8695a4b5447c45a5b12207e'\n",
    "r = requests.get(url)\n",
    "data = r.json()\n",
    "books = []\n",
    "for d in data['response']['docs']:\n",
    "  books.append(d['doc'])\n",
    "books_df = pd.DataFrame(books)"
   ],
   "metadata": {
    "id": "zF33T1ftNtGa"
   },
   "execution_count": 58,
   "outputs": []
  },
  {
   "cell_type": "code",
   "source": [
    "top7_books = books_df.head(7)\n",
    "\n",
    "def get_page_cnt2(row):\n",
    "  isbn = row['isbn13']\n",
    "  return get_page_cnt(isbn)"
   ],
   "metadata": {
    "id": "BPGjDXM1N8FC"
   },
   "execution_count": 70,
   "outputs": []
  },
  {
   "cell_type": "code",
   "source": [
    "page_count = top7_books.apply(get_page_cnt2, axis=1)\n",
    "print(page_count)"
   ],
   "metadata": {
    "colab": {
     "base_uri": "https://localhost:8080/"
    },
    "id": "_nNOeVkVOVLX",
    "outputId": "2122644e-b3a6-4628-a6b0-5f6d6bc5e7bf"
   },
   "execution_count": 71,
   "outputs": [
    {
     "output_type": "stream",
     "name": "stdout",
     "text": [
      "0    330쪽\n",
      "1    300쪽\n",
      "2    228쪽\n",
      "3    340쪽\n",
      "4    264쪽\n",
      "5    272쪽\n",
      "6    396쪽\n",
      "dtype: object\n"
     ]
    }
   ]
  },
  {
   "cell_type": "code",
   "source": [
    "page_count2 = top7_books.apply(lambda row: get_page_cnt(row['isbn13']), axis=1)\n",
    "print(page_count2)"
   ],
   "metadata": {
    "colab": {
     "base_uri": "https://localhost:8080/"
    },
    "id": "2g-PypNfR4T7",
    "outputId": "d2b023d0-d0c7-44db-c126-1cac4d3da713"
   },
   "execution_count": 72,
   "outputs": [
    {
     "output_type": "stream",
     "name": "stdout",
     "text": [
      "0    330쪽\n",
      "1    300쪽\n",
      "2    228쪽\n",
      "3    340쪽\n",
      "4    264쪽\n",
      "5    272쪽\n",
      "6    396쪽\n",
      "dtype: object\n"
     ]
    }
   ]
  },
  {
   "cell_type": "code",
   "source": [
    "page_count.name = 'page_count'\n",
    "print(page_count)"
   ],
   "metadata": {
    "colab": {
     "base_uri": "https://localhost:8080/"
    },
    "id": "DebiFR0GS2sK",
    "outputId": "17deba8c-03ba-492b-bea0-7e30d88560d7"
   },
   "execution_count": 73,
   "outputs": [
    {
     "output_type": "stream",
     "name": "stdout",
     "text": [
      "0    330쪽\n",
      "1    300쪽\n",
      "2    228쪽\n",
      "3    340쪽\n",
      "4    264쪽\n",
      "5    272쪽\n",
      "6    396쪽\n",
      "Name: page_count, dtype: object\n"
     ]
    }
   ]
  },
  {
   "cell_type": "code",
   "source": [
    "top7_with_page_count = pd.merge(top7_books, page_count, left_index=True, right_index=True)\n",
    "top7_with_page_count"
   ],
   "metadata": {
    "colab": {
     "base_uri": "https://localhost:8080/",
     "height": 576
    },
    "id": "IjK52SFRTgoe",
    "outputId": "5f1d6c0c-86fc-44a4-ecbb-2ab811615ff6"
   },
   "execution_count": 74,
   "outputs": [
    {
     "output_type": "execute_result",
     "data": {
      "text/plain": [
       "   no ranking                     bookname   authors publisher  \\\n",
       "0   1       1  우리가 빛의 속도로 갈 수 없다면 :김초엽 소설   지은이: 김초엽        허블   \n",
       "1   2       2         달러구트 꿈 백화점.이미예 장편소설   지은이: 이미예     팩토리나인   \n",
       "2   3       3          지구에서 한아뿐 :정세랑 장편소설   지은이: 정세랑        난다   \n",
       "3   4       4           시선으로부터, :정세랑 장편소설   지은이: 정세랑      문학동네   \n",
       "4   5       5                  아몬드손원평 장편소설       손원평        창비   \n",
       "5   6       6          목소리를 드릴게요 :정세랑 소설집   지은이: 정세랑        아작   \n",
       "6   7       7            피프티 피플 :정세랑 장편소설   지은이: 정세랑        창비   \n",
       "\n",
       "  publication_year         isbn13 addition_symbol vol class_no  \\\n",
       "0             2019  9791190090018           03810        813.7   \n",
       "1             2020  9791165341909           03810        813.7   \n",
       "2             2019  9791188862290           03810        813.7   \n",
       "3             2020  9788954672214           03810        813.7   \n",
       "4             2017  9788936434267           03810        813.7   \n",
       "5             2020  9791165300005           03810        813.7   \n",
       "6             2016  9788936434243           03810        813.7   \n",
       "\n",
       "         class_nm loan_count  \\\n",
       "0  문학 > 한국문학 > 소설        479   \n",
       "1  문학 > 한국문학 > 소설        407   \n",
       "2  문학 > 한국문학 > 소설        391   \n",
       "3  문학 > 한국문학 > 소설        379   \n",
       "4  문학 > 한국문학 > 소설        375   \n",
       "5  문학 > 한국문학 > 소설        327   \n",
       "6  문학 > 한국문학 > 소설        326   \n",
       "\n",
       "                                        bookImageURL  \\\n",
       "0  https://image.aladin.co.kr/product/19359/16/co...   \n",
       "1  https://image.aladin.co.kr/product/24512/70/co...   \n",
       "2  https://image.aladin.co.kr/product/19804/82/co...   \n",
       "3  https://image.aladin.co.kr/product/24131/37/co...   \n",
       "4  http://image.aladin.co.kr/product/16839/4/cove...   \n",
       "5  https://image.aladin.co.kr/product/22246/11/co...   \n",
       "6  https://bookthumb-phinf.pstatic.net/cover/113/...   \n",
       "\n",
       "                                  bookDtlUrl page_count  \n",
       "0  https://data4library.kr/bookV?seq=5430429       330쪽  \n",
       "1  https://data4library.kr/bookV?seq=5707051       300쪽  \n",
       "2  https://data4library.kr/bookV?seq=5446546       228쪽  \n",
       "3  https://data4library.kr/bookV?seq=5674475       340쪽  \n",
       "4  https://data4library.kr/bookV?seq=3423096       264쪽  \n",
       "5  https://data4library.kr/bookV?seq=5549987       272쪽  \n",
       "6  https://data4library.kr/bookV?seq=3391014       396쪽  "
      ],
      "text/html": [
       "\n",
       "  <div id=\"df-77e42189-035a-44a9-a740-9153f9853064\">\n",
       "    <div class=\"colab-df-container\">\n",
       "      <div>\n",
       "<style scoped>\n",
       "    .dataframe tbody tr th:only-of-type {\n",
       "        vertical-align: middle;\n",
       "    }\n",
       "\n",
       "    .dataframe tbody tr th {\n",
       "        vertical-align: top;\n",
       "    }\n",
       "\n",
       "    .dataframe thead th {\n",
       "        text-align: right;\n",
       "    }\n",
       "</style>\n",
       "<table border=\"1\" class=\"dataframe\">\n",
       "  <thead>\n",
       "    <tr style=\"text-align: right;\">\n",
       "      <th></th>\n",
       "      <th>no</th>\n",
       "      <th>ranking</th>\n",
       "      <th>bookname</th>\n",
       "      <th>authors</th>\n",
       "      <th>publisher</th>\n",
       "      <th>publication_year</th>\n",
       "      <th>isbn13</th>\n",
       "      <th>addition_symbol</th>\n",
       "      <th>vol</th>\n",
       "      <th>class_no</th>\n",
       "      <th>class_nm</th>\n",
       "      <th>loan_count</th>\n",
       "      <th>bookImageURL</th>\n",
       "      <th>bookDtlUrl</th>\n",
       "      <th>page_count</th>\n",
       "    </tr>\n",
       "  </thead>\n",
       "  <tbody>\n",
       "    <tr>\n",
       "      <th>0</th>\n",
       "      <td>1</td>\n",
       "      <td>1</td>\n",
       "      <td>우리가 빛의 속도로 갈 수 없다면 :김초엽 소설</td>\n",
       "      <td>지은이: 김초엽</td>\n",
       "      <td>허블</td>\n",
       "      <td>2019</td>\n",
       "      <td>9791190090018</td>\n",
       "      <td>03810</td>\n",
       "      <td></td>\n",
       "      <td>813.7</td>\n",
       "      <td>문학 &gt; 한국문학 &gt; 소설</td>\n",
       "      <td>479</td>\n",
       "      <td>https://image.aladin.co.kr/product/19359/16/co...</td>\n",
       "      <td>https://data4library.kr/bookV?seq=5430429</td>\n",
       "      <td>330쪽</td>\n",
       "    </tr>\n",
       "    <tr>\n",
       "      <th>1</th>\n",
       "      <td>2</td>\n",
       "      <td>2</td>\n",
       "      <td>달러구트 꿈 백화점.이미예 장편소설</td>\n",
       "      <td>지은이: 이미예</td>\n",
       "      <td>팩토리나인</td>\n",
       "      <td>2020</td>\n",
       "      <td>9791165341909</td>\n",
       "      <td>03810</td>\n",
       "      <td></td>\n",
       "      <td>813.7</td>\n",
       "      <td>문학 &gt; 한국문학 &gt; 소설</td>\n",
       "      <td>407</td>\n",
       "      <td>https://image.aladin.co.kr/product/24512/70/co...</td>\n",
       "      <td>https://data4library.kr/bookV?seq=5707051</td>\n",
       "      <td>300쪽</td>\n",
       "    </tr>\n",
       "    <tr>\n",
       "      <th>2</th>\n",
       "      <td>3</td>\n",
       "      <td>3</td>\n",
       "      <td>지구에서 한아뿐 :정세랑 장편소설</td>\n",
       "      <td>지은이: 정세랑</td>\n",
       "      <td>난다</td>\n",
       "      <td>2019</td>\n",
       "      <td>9791188862290</td>\n",
       "      <td>03810</td>\n",
       "      <td></td>\n",
       "      <td>813.7</td>\n",
       "      <td>문학 &gt; 한국문학 &gt; 소설</td>\n",
       "      <td>391</td>\n",
       "      <td>https://image.aladin.co.kr/product/19804/82/co...</td>\n",
       "      <td>https://data4library.kr/bookV?seq=5446546</td>\n",
       "      <td>228쪽</td>\n",
       "    </tr>\n",
       "    <tr>\n",
       "      <th>3</th>\n",
       "      <td>4</td>\n",
       "      <td>4</td>\n",
       "      <td>시선으로부터, :정세랑 장편소설</td>\n",
       "      <td>지은이: 정세랑</td>\n",
       "      <td>문학동네</td>\n",
       "      <td>2020</td>\n",
       "      <td>9788954672214</td>\n",
       "      <td>03810</td>\n",
       "      <td></td>\n",
       "      <td>813.7</td>\n",
       "      <td>문학 &gt; 한국문학 &gt; 소설</td>\n",
       "      <td>379</td>\n",
       "      <td>https://image.aladin.co.kr/product/24131/37/co...</td>\n",
       "      <td>https://data4library.kr/bookV?seq=5674475</td>\n",
       "      <td>340쪽</td>\n",
       "    </tr>\n",
       "    <tr>\n",
       "      <th>4</th>\n",
       "      <td>5</td>\n",
       "      <td>5</td>\n",
       "      <td>아몬드손원평 장편소설</td>\n",
       "      <td>손원평</td>\n",
       "      <td>창비</td>\n",
       "      <td>2017</td>\n",
       "      <td>9788936434267</td>\n",
       "      <td>03810</td>\n",
       "      <td></td>\n",
       "      <td>813.7</td>\n",
       "      <td>문학 &gt; 한국문학 &gt; 소설</td>\n",
       "      <td>375</td>\n",
       "      <td>http://image.aladin.co.kr/product/16839/4/cove...</td>\n",
       "      <td>https://data4library.kr/bookV?seq=3423096</td>\n",
       "      <td>264쪽</td>\n",
       "    </tr>\n",
       "    <tr>\n",
       "      <th>5</th>\n",
       "      <td>6</td>\n",
       "      <td>6</td>\n",
       "      <td>목소리를 드릴게요 :정세랑 소설집</td>\n",
       "      <td>지은이: 정세랑</td>\n",
       "      <td>아작</td>\n",
       "      <td>2020</td>\n",
       "      <td>9791165300005</td>\n",
       "      <td>03810</td>\n",
       "      <td></td>\n",
       "      <td>813.7</td>\n",
       "      <td>문학 &gt; 한국문학 &gt; 소설</td>\n",
       "      <td>327</td>\n",
       "      <td>https://image.aladin.co.kr/product/22246/11/co...</td>\n",
       "      <td>https://data4library.kr/bookV?seq=5549987</td>\n",
       "      <td>272쪽</td>\n",
       "    </tr>\n",
       "    <tr>\n",
       "      <th>6</th>\n",
       "      <td>7</td>\n",
       "      <td>7</td>\n",
       "      <td>피프티 피플 :정세랑 장편소설</td>\n",
       "      <td>지은이: 정세랑</td>\n",
       "      <td>창비</td>\n",
       "      <td>2016</td>\n",
       "      <td>9788936434243</td>\n",
       "      <td>03810</td>\n",
       "      <td></td>\n",
       "      <td>813.7</td>\n",
       "      <td>문학 &gt; 한국문학 &gt; 소설</td>\n",
       "      <td>326</td>\n",
       "      <td>https://bookthumb-phinf.pstatic.net/cover/113/...</td>\n",
       "      <td>https://data4library.kr/bookV?seq=3391014</td>\n",
       "      <td>396쪽</td>\n",
       "    </tr>\n",
       "  </tbody>\n",
       "</table>\n",
       "</div>\n",
       "      <button class=\"colab-df-convert\" onclick=\"convertToInteractive('df-77e42189-035a-44a9-a740-9153f9853064')\"\n",
       "              title=\"Convert this dataframe to an interactive table.\"\n",
       "              style=\"display:none;\">\n",
       "        \n",
       "  <svg xmlns=\"http://www.w3.org/2000/svg\" height=\"24px\"viewBox=\"0 0 24 24\"\n",
       "       width=\"24px\">\n",
       "    <path d=\"M0 0h24v24H0V0z\" fill=\"none\"/>\n",
       "    <path d=\"M18.56 5.44l.94 2.06.94-2.06 2.06-.94-2.06-.94-.94-2.06-.94 2.06-2.06.94zm-11 1L8.5 8.5l.94-2.06 2.06-.94-2.06-.94L8.5 2.5l-.94 2.06-2.06.94zm10 10l.94 2.06.94-2.06 2.06-.94-2.06-.94-.94-2.06-.94 2.06-2.06.94z\"/><path d=\"M17.41 7.96l-1.37-1.37c-.4-.4-.92-.59-1.43-.59-.52 0-1.04.2-1.43.59L10.3 9.45l-7.72 7.72c-.78.78-.78 2.05 0 2.83L4 21.41c.39.39.9.59 1.41.59.51 0 1.02-.2 1.41-.59l7.78-7.78 2.81-2.81c.8-.78.8-2.07 0-2.86zM5.41 20L4 18.59l7.72-7.72 1.47 1.35L5.41 20z\"/>\n",
       "  </svg>\n",
       "      </button>\n",
       "      \n",
       "  <style>\n",
       "    .colab-df-container {\n",
       "      display:flex;\n",
       "      flex-wrap:wrap;\n",
       "      gap: 12px;\n",
       "    }\n",
       "\n",
       "    .colab-df-convert {\n",
       "      background-color: #E8F0FE;\n",
       "      border: none;\n",
       "      border-radius: 50%;\n",
       "      cursor: pointer;\n",
       "      display: none;\n",
       "      fill: #1967D2;\n",
       "      height: 32px;\n",
       "      padding: 0 0 0 0;\n",
       "      width: 32px;\n",
       "    }\n",
       "\n",
       "    .colab-df-convert:hover {\n",
       "      background-color: #E2EBFA;\n",
       "      box-shadow: 0px 1px 2px rgba(60, 64, 67, 0.3), 0px 1px 3px 1px rgba(60, 64, 67, 0.15);\n",
       "      fill: #174EA6;\n",
       "    }\n",
       "\n",
       "    [theme=dark] .colab-df-convert {\n",
       "      background-color: #3B4455;\n",
       "      fill: #D2E3FC;\n",
       "    }\n",
       "\n",
       "    [theme=dark] .colab-df-convert:hover {\n",
       "      background-color: #434B5C;\n",
       "      box-shadow: 0px 1px 3px 1px rgba(0, 0, 0, 0.15);\n",
       "      filter: drop-shadow(0px 1px 2px rgba(0, 0, 0, 0.3));\n",
       "      fill: #FFFFFF;\n",
       "    }\n",
       "  </style>\n",
       "\n",
       "      <script>\n",
       "        const buttonEl =\n",
       "          document.querySelector('#df-77e42189-035a-44a9-a740-9153f9853064 button.colab-df-convert');\n",
       "        buttonEl.style.display =\n",
       "          google.colab.kernel.accessAllowed ? 'block' : 'none';\n",
       "\n",
       "        async function convertToInteractive(key) {\n",
       "          const element = document.querySelector('#df-77e42189-035a-44a9-a740-9153f9853064');\n",
       "          const dataTable =\n",
       "            await google.colab.kernel.invokeFunction('convertToInteractive',\n",
       "                                                     [key], {});\n",
       "          if (!dataTable) return;\n",
       "\n",
       "          const docLinkHtml = 'Like what you see? Visit the ' +\n",
       "            '<a target=\"_blank\" href=https://colab.research.google.com/notebooks/data_table.ipynb>data table notebook</a>'\n",
       "            + ' to learn more about interactive tables.';\n",
       "          element.innerHTML = '';\n",
       "          dataTable['output_type'] = 'display_data';\n",
       "          await google.colab.output.renderOutput(dataTable, element);\n",
       "          const docLink = document.createElement('div');\n",
       "          docLink.innerHTML = docLinkHtml;\n",
       "          element.appendChild(docLink);\n",
       "        }\n",
       "      </script>\n",
       "    </div>\n",
       "  </div>\n",
       "  "
      ]
     },
     "metadata": {},
     "execution_count": 74
    }
   ]
  }
 ]
}
